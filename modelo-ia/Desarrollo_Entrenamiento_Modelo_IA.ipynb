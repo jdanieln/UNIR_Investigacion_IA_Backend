{
 "cells": [
  {
   "cell_type": "code",
   "execution_count": 5,
   "id": "b921ffda-6eea-47f3-9156-238c78e58e4a",
   "metadata": {
    "id": "b921ffda-6eea-47f3-9156-238c78e58e4a",
    "outputId": "439e6ef0-744e-4306-f5a9-ec68b7c2c8ec"
   },
   "outputs": [
    {
     "ename": "ModuleNotFoundError",
     "evalue": "No module named 'tensorflow'",
     "output_type": "error",
     "traceback": [
      "\u001b[1;31m---------------------------------------------------------------------------\u001b[0m",
      "\u001b[1;31mModuleNotFoundError\u001b[0m                       Traceback (most recent call last)",
      "\u001b[1;32m~\\AppData\\Local\\Temp\\ipykernel_7748\\1696628222.py\u001b[0m in \u001b[0;36m<module>\u001b[1;34m\u001b[0m\n\u001b[0;32m      1\u001b[0m \u001b[1;32mimport\u001b[0m \u001b[0mpandas\u001b[0m \u001b[1;32mas\u001b[0m \u001b[0mpd\u001b[0m\u001b[1;33m\u001b[0m\u001b[1;33m\u001b[0m\u001b[0m\n\u001b[0;32m      2\u001b[0m \u001b[1;32mimport\u001b[0m \u001b[0mnumpy\u001b[0m \u001b[1;32mas\u001b[0m \u001b[0mnp\u001b[0m\u001b[1;33m\u001b[0m\u001b[1;33m\u001b[0m\u001b[0m\n\u001b[1;32m----> 3\u001b[1;33m \u001b[1;32mimport\u001b[0m \u001b[0mtensorflow\u001b[0m \u001b[1;32mas\u001b[0m \u001b[0mtf\u001b[0m\u001b[1;33m\u001b[0m\u001b[1;33m\u001b[0m\u001b[0m\n\u001b[0m\u001b[0;32m      4\u001b[0m \u001b[1;32mfrom\u001b[0m \u001b[0mtensorflow\u001b[0m \u001b[1;32mimport\u001b[0m \u001b[0mkeras\u001b[0m\u001b[1;33m\u001b[0m\u001b[1;33m\u001b[0m\u001b[0m\n\u001b[0;32m      5\u001b[0m \u001b[1;32mfrom\u001b[0m \u001b[0mtensorflow\u001b[0m\u001b[1;33m.\u001b[0m\u001b[0mkeras\u001b[0m \u001b[1;32mimport\u001b[0m \u001b[0mlayers\u001b[0m\u001b[1;33m\u001b[0m\u001b[1;33m\u001b[0m\u001b[0m\n",
      "\u001b[1;31mModuleNotFoundError\u001b[0m: No module named 'tensorflow'"
     ]
    }
   ],
   "source": [
    "import pandas as pd\n",
    "import numpy as np\n",
    "import tensorflow as tf\n",
    "from tensorflow import keras\n",
    "from tensorflow.keras import layers\n",
    "import matplotlib.pyplot as plt\n",
    "\n",
    "def convert_date(date_str):\n",
    "    try:\n",
    "        return pd.to_datetime(date_str, format='%m/%d/%Y %H:%M')\n",
    "    except ValueError:\n",
    "        return pd.to_datetime(date_str, format='%m/%d/%y %H:%M')\n",
    "# Leer el archivo CSV y crear un DataFrame\n",
    "df = pd.read_csv('https://raw.githubusercontent.com/jdanieln/UNIR_Investigacion_IA_Backend/main/data/data.csv')\n",
    "print(\"DF ORIGINAL\")\n",
    "df.info()\n",
    "selected_columns = [\"Product\", \"Quantity Ordered\", \"Order Date\"]\n",
    "new_df = df[selected_columns]\n",
    "# Usando dropna sin especificar subset para eliminar filas con valores nulos en todas las columnas\n",
    "new_df = new_df.dropna(how='all')\n"
   ]
  },
  {
   "cell_type": "code",
   "execution_count": null,
   "id": "b49d9904",
   "metadata": {},
   "outputs": [],
   "source": []
  },
  {
   "cell_type": "code",
   "execution_count": null,
   "id": "38578755-e128-4d11-8f74-48033b1d95b9",
   "metadata": {
    "id": "38578755-e128-4d11-8f74-48033b1d95b9",
    "outputId": "3df2fce4-d28a-408e-c507-1d82119af17e"
   },
   "outputs": [],
   "source": [
    "print(\"DF NUEVO\")\n",
    "new_df.info()\n",
    "new_df['Quantity Ordered'] = pd.to_numeric(new_df['Quantity Ordered'], errors='coerce')\n",
    "new_df = new_df.dropna(how='all')\n",
    "new_df.info()\n",
    "#print(new_df.head(10))\n",
    "num_rows_before = new_df.shape[0]\n",
    "# Eliminar filas con datos faltantes\n",
    "new_df.dropna(inplace=True)\n",
    "# Obtener el número de filas después de la eliminación\n",
    "print(new_df.head(10))\n",
    "num_rows_after = new_df.shape[0]\n",
    "\n",
    "# Calcular la cantidad de filas eliminadas\n",
    "num_rows_deleted = num_rows_before - num_rows_after\n",
    "\n",
    "print(\"Número de filas eliminadas:\", num_rows_deleted)\n",
    "\n",
    "\n",
    "# Convertir la columna 'Order Date' a formato de fecha\n",
    "\n",
    "new_df['Order Date'] = new_df['Order Date'].apply(convert_date)\n",
    "\n"
   ]
  },
  {
   "cell_type": "code",
   "execution_count": null,
   "id": "1f719fef-4de4-42f4-8abd-b74012740b80",
   "metadata": {
    "id": "1f719fef-4de4-42f4-8abd-b74012740b80",
    "outputId": "df018d3f-4f0f-47b0-9d7c-2aaa5a9096c5"
   },
   "outputs": [],
   "source": [
    "new_df['Year'] = new_df['Order Date'].dt.year\n",
    "\n",
    "# Crear una columna para el mes\n",
    "new_df['Month'] = new_df['Order Date'].dt.month\n",
    "\n",
    "# Crear una columna para el día\n",
    "new_df['Day'] = new_df['Order Date'].dt.day\n",
    "\n",
    "# Crear una columna para la hora\n",
    "new_df['Hour'] = new_df['Order Date'].dt.hour\n",
    "\n",
    "# Crear una columna para el minuto\n",
    "new_df['Minute'] = new_df['Order Date'].dt.minute\n",
    "\n",
    "print(\"ULTIMO\")\n",
    "new_df.info()"
   ]
  },
  {
   "cell_type": "code",
   "execution_count": null,
   "id": "cf16fefd-1129-45c8-b3af-c3d3505e5998",
   "metadata": {
    "id": "cf16fefd-1129-45c8-b3af-c3d3505e5998",
    "outputId": "cd8365f0-cbd8-4776-97d6-eab8b3599e4c"
   },
   "outputs": [],
   "source": [
    "print(new_df.describe())\n",
    "print(new_df.describe(include=['O']))"
   ]
  },
  {
   "cell_type": "code",
   "execution_count": null,
   "id": "051dd917-e45f-40d1-9459-d5eefb94ada3",
   "metadata": {
    "id": "051dd917-e45f-40d1-9459-d5eefb94ada3",
    "outputId": "45d25a10-2765-4c5d-c0e8-816cf9453504"
   },
   "outputs": [],
   "source": [
    "unique_products = new_df['Product'].unique()\n",
    "print(unique_products)"
   ]
  },
  {
   "cell_type": "code",
   "execution_count": null,
   "id": "9d0e4952-0502-4659-96df-e22d41bddbca",
   "metadata": {
    "id": "9d0e4952-0502-4659-96df-e22d41bddbca",
    "outputId": "a0218846-c11d-4e1c-aa81-7af5e9b3b804"
   },
   "outputs": [],
   "source": [
    "# Supongamos que seleccionamos el año y mes deseados\n",
    "year_selected = 2019\n",
    "month_selected = 1\n",
    "N = 5  # Puedes cambiar este valor a la cantidad de productos que desees obtener\n",
    "\n",
    "# Filtrar los datos para el año y mes seleccionados\n",
    "filtered_data = new_df[(new_df['Year'] == year_selected) & (new_df['Month'] == month_selected)]\n",
    "\n",
    "# Agrupar los datos filtrados por producto y sumar las cantidades vendidas\n",
    "product_sales_selected = filtered_data.groupby('Product')['Quantity Ordered'].sum().reset_index()\n",
    "\n",
    "# Ordenar los productos por la cantidad total vendida (de mayor a menor) para el año y mes seleccionados\n",
    "most_sold_products_selected = product_sales_selected.sort_values(by='Quantity Ordered', ascending=False).head(N)\n",
    "\n",
    "print(f\"Para el año {year_selected} y el mes {month_selected}:\")\n",
    "print(f\"Los {N} productos más vendidos son:\")\n",
    "for index, row in most_sold_products_selected.iterrows():\n",
    "    print(\"Producto:\", row['Product'])\n",
    "    print(\"Cantidad vendida:\", row['Quantity Ordered'])\n",
    "    print(\"---\")"
   ]
  },
  {
   "cell_type": "code",
   "execution_count": null,
   "id": "ffac63d2-4afa-42bb-8538-b1cd5d4a8b16",
   "metadata": {
    "id": "ffac63d2-4afa-42bb-8538-b1cd5d4a8b16",
    "outputId": "861b1095-30c1-4604-b9ae-724cd458a3e1"
   },
   "outputs": [],
   "source": [
    "N = 5  # Puedes cambiar este valor a la cantidad de productos que desees obtener\n",
    "\n",
    "# Agrupar los datos de todo el DataFrame por producto y sumar las cantidades vendidas\n",
    "product_sales_total = new_df.groupby('Product')['Quantity Ordered'].sum().reset_index()\n",
    "\n",
    "# Ordenar los productos por la cantidad total vendida (de mayor a menor) en todo el DataFrame\n",
    "most_sold_products_total = product_sales_total.sort_values(by='Quantity Ordered', ascending=False).head(N)\n",
    "\n",
    "print(\"\\nEn todo el DataFrame:\")\n",
    "print(f\"Los {N} productos más vendidos son:\")\n",
    "for index, row in most_sold_products_total.iterrows():\n",
    "    print(\"Producto:\", row['Product'])\n",
    "    print(\"Cantidad vendida:\", row['Quantity Ordered'])\n",
    "    print(\"---\")"
   ]
  },
  {
   "cell_type": "code",
   "execution_count": null,
   "id": "b9499908-2e2b-4408-bae2-14fe8b982d44",
   "metadata": {
    "id": "b9499908-2e2b-4408-bae2-14fe8b982d44",
    "jupyter": {
     "outputs_hidden": true
    },
    "outputId": "f4cb9513-88d2-4138-d0b5-4a1d35effd78",
    "tags": []
   },
   "outputs": [],
   "source": [
    "N = 5  # Puedes cambiar este valor a la cantidad de productos que desees obtener\n",
    "\n",
    "# Supongamos que deseamos encontrar el producto más vendido dentro de un rango de fechas específico\n",
    "start_date = '2019-01-01'\n",
    "end_date = '2019-02-25'\n",
    "\n",
    "# Convierte las fechas a objetos datetime\n",
    "start_date = pd.to_datetime(start_date)\n",
    "end_date = pd.to_datetime(end_date)\n",
    "\n",
    "# Filtra los datos dentro del rango de fechas\n",
    "filtered_data = new_df[(new_df['Order Date'] >= start_date) & (new_df['Order Date'] <= end_date)]\n",
    "\n",
    "# Agrupa los datos filtrados por producto y sumar las cantidades vendidas\n",
    "product_sales_range = filtered_data.groupby('Product')['Quantity Ordered'].sum().reset_index()\n",
    "\n",
    "# Ordena los productos por la cantidad total vendida (de mayor a menor) dentro del rango de fechas\n",
    "most_sold_products_range = product_sales_range.sort_values(by='Quantity Ordered', ascending=False).head(N)\n",
    "\n",
    "print(f\"Para el rango de fechas desde {start_date} hasta {end_date}:\")\n",
    "print(f\"Los {N} productos más vendidos son:\")\n",
    "for index, row in most_sold_products_range.iterrows():\n",
    "    print(\"Producto:\", row['Product'])\n",
    "    print(\"Cantidad vendida:\", row['Quantity Ordered'])\n",
    "    print(\"---\")"
   ]
  },
  {
   "cell_type": "markdown",
   "id": "fa543382-55af-4bf8-bf1f-daf80cccbbb9",
   "metadata": {
    "id": "fa543382-55af-4bf8-bf1f-daf80cccbbb9"
   },
   "source": []
  },
  {
   "cell_type": "code",
   "execution_count": null,
   "id": "37dc4c6a-0d6e-41a7-a66a-c31447b38be9",
   "metadata": {
    "id": "37dc4c6a-0d6e-41a7-a66a-c31447b38be9",
    "outputId": "fe7fd028-d53b-48b4-bd46-e220252e485d",
    "tags": []
   },
   "outputs": [],
   "source": [
    "# SalesHeatmap: Muestra el mapa de calor de ventas por mes y día de la semana.\n",
    "\n",
    "# Extraer el mes y el día de la semana de la columna 'Order Date'\n",
    "new_df['Month'] = new_df['Order Date'].dt.month\n",
    "new_df['Day of Week'] = new_df['Order Date'].dt.dayofweek  # 0: Lunes, 1: Martes, ..., 6: Domingo\n",
    "\n",
    "# Crear una tabla pivote para la cantidad vendida por mes y día de la semana\n",
    "heatmap_data = new_df.pivot_table(index='Month', columns='Day of Week', values='Quantity Ordered', aggfunc='sum')\n",
    "\n",
    "# Crear un mapa de calor\n",
    "plt.figure(figsize=(12, 6))\n",
    "sns.heatmap(heatmap_data, cmap='YlGnBu', linewidths=.5)\n",
    "plt.title('Mapa de Calor de Ventas por Mes y Día de la Semana')\n",
    "plt.xlabel('Día de la Semana')\n",
    "plt.ylabel('Mes')\n",
    "plt.xticks(ticks=[0, 1, 2, 3, 4, 5, 6], labels=['Lunes', 'Martes', 'Miércoles', 'Jueves', 'Viernes', 'Sábado', 'Domingo'])\n",
    "plt.yticks(rotation=0)\n",
    "plt.show()"
   ]
  },
  {
   "cell_type": "code",
   "execution_count": null,
   "id": "498b944c-09dc-4471-8ddf-2ed1474d403c",
   "metadata": {
    "id": "498b944c-09dc-4471-8ddf-2ed1474d403c",
    "outputId": "a6a06829-89bc-4193-c760-eea02125ab43"
   },
   "outputs": [],
   "source": [
    "import matplotlib.pyplot as plt\n",
    "# SalesTrends : Muestra las tendencias de ventas a lo largo del tiempo en un gráfico de líneas o serie temporal.\n",
    "# Supongamos que tienes un DataFrame llamado 'new_df' con las columnas 'Order Date' y 'Quantity Ordered'\n",
    "\n",
    "# Preparación de los datos\n",
    "new_df['Order Date'] = pd.to_datetime(new_df['Order Date'])  # Asegúrate de que la columna 'Order Date' sea de tipo datetime\n",
    "\n",
    "# Gráfico de línea para mostrar las tendencias de ventas a lo largo del tiempo\n",
    "plt.figure(figsize=(12, 6))\n",
    "plt.plot(new_df['Order Date'], new_df['Quantity Ordered'], color='blue', label='Cantidad Vendida')\n",
    "plt.xlabel('Fecha')\n",
    "plt.ylabel('Cantidad Vendida')\n",
    "plt.title('Tendencias de Ventas a lo Largo del Tiempo')\n",
    "plt.legend()\n",
    "\n",
    "# Mostrar el gráfico\n",
    "plt.grid(True)\n",
    "plt.show()"
   ]
  },
  {
   "cell_type": "code",
   "execution_count": null,
   "id": "54540f3c-f4b4-4218-918a-be0316ffa511",
   "metadata": {
    "id": "54540f3c-f4b4-4218-918a-be0316ffa511",
    "outputId": "0bfb6a9b-4f81-4f70-f9f7-b9647e5c02b7"
   },
   "outputs": [],
   "source": [
    "import matplotlib.pyplot as plt\n",
    "\n",
    "# Ejemplo de histograma para la cantidad de productos vendidos\n",
    "plt.hist(new_df['Quantity Ordered'], bins=20, edgecolor='k')\n",
    "plt.xlabel('Cantidad Vendida')\n",
    "plt.ylabel('Frecuencia')\n",
    "plt.title('Distribución de Cantidad Vendida')\n",
    "plt.show()"
   ]
  },
  {
   "cell_type": "code",
   "execution_count": null,
   "id": "51723908-377f-41dc-ae4a-194a510d13d3",
   "metadata": {
    "id": "51723908-377f-41dc-ae4a-194a510d13d3",
    "outputId": "e148afe8-59a0-48f2-b0ac-552531ac46f4"
   },
   "outputs": [],
   "source": [
    "\n",
    "#ProductFrequency: Muestra el análisis de frecuencia de productos en forma de un gráfico de barras.\n",
    "\n",
    "# Calcular la frecuencia de productos\n",
    "product_frequency = new_df['Product'].value_counts()\n",
    "\n",
    "# Crear un gráfico de barras para mostrar la frecuencia de productos\n",
    "plt.figure(figsize=(12, 6))\n",
    "product_frequency.plot(kind='bar', color='blue')\n",
    "plt.xlabel('Producto')\n",
    "plt.ylabel('Frecuencia')\n",
    "plt.title('Análisis de Frecuencia de Productos')\n",
    "plt.xticks(rotation=90)  # Rotar las etiquetas del eje X para mayor legibilidad\n",
    "\n",
    "# Mostrar el gráfico de barras\n",
    "plt.grid(axis='y')\n",
    "plt.show()"
   ]
  },
  {
   "cell_type": "code",
   "execution_count": null,
   "id": "3b7c524d-ae0e-4e98-a675-4e273206ecd5",
   "metadata": {
    "id": "3b7c524d-ae0e-4e98-a675-4e273206ecd5",
    "outputId": "58464ed2-7376-458a-d18f-fe8f2c98b49f"
   },
   "outputs": [],
   "source": [
    "import matplotlib.pyplot as plt\n",
    "import seaborn as sns\n",
    "# Ejemplo de diagrama de caja para la cantidad vendida\n",
    "sns.boxplot(x='Product', y='Quantity Ordered', data=new_df)\n",
    "plt.xticks(rotation=90)\n",
    "plt.xlabel('Producto')\n",
    "plt.ylabel('Cantidad Vendida')\n",
    "plt.title('Diagrama de Caja de Cantidad Vendida por Producto')\n",
    "plt.show()"
   ]
  },
  {
   "cell_type": "code",
   "execution_count": null,
   "id": "60178a41-60fd-421e-ade7-f2e1408c85c2",
   "metadata": {
    "id": "60178a41-60fd-421e-ade7-f2e1408c85c2",
    "outputId": "a4811ce3-95f6-4416-b490-24e13e5792fd"
   },
   "outputs": [],
   "source": [
    "# Ejemplo de gráfico de barras para mostrar los productos más vendidos\n",
    "top_products = new_df['Product'].value_counts().head(10)\n",
    "sns.barplot(x=top_products.index, y=top_products.values)\n",
    "plt.xticks(rotation=90)\n",
    "plt.xlabel('Producto')\n",
    "plt.ylabel('Cantidad Vendida')\n",
    "plt.title('Productos Más Vendidos')\n",
    "plt.show()"
   ]
  },
  {
   "cell_type": "code",
   "execution_count": null,
   "id": "863fec94-9d2a-480d-ade3-e2420f63166a",
   "metadata": {
    "id": "863fec94-9d2a-480d-ade3-e2420f63166a",
    "outputId": "a096d747-276f-4d0c-b4f4-82fb4bed135f"
   },
   "outputs": [],
   "source": [
    "# Supongamos que tienes un DataFrame llamado 'data' con las columnas 'Order Date' y 'Quantity Ordered'\n",
    "\n",
    "# Extraer la hora del día y el día de la semana de la columna 'Order Date'\n",
    "new_df['Hour'] = new_df['Order Date'].dt.hour\n",
    "new_df['Day of Week'] = new_df['Order Date'].dt.dayofweek  # 0: Lunes, 1: Martes, ..., 6: Domingo\n",
    "\n",
    "# Crear una tabla pivote para la cantidad vendida por hora y día de la semana\n",
    "heatmap_data =new_df.pivot_table(index='Hour', columns='Day of Week', values='Quantity Ordered', aggfunc='sum')\n",
    "\n",
    "# Crear un mapa de calor\n",
    "plt.figure(figsize=(12, 6))\n",
    "sns.heatmap(heatmap_data, cmap='YlGnBu', linewidths=.5)\n",
    "plt.title('Mapa de Calor de Cantidad Vendida por Hora del Día y Día de la Semana')\n",
    "plt.xlabel('Día de la Semana')\n",
    "plt.ylabel('Hora del Día')\n",
    "plt.show()"
   ]
  },
  {
   "cell_type": "code",
   "execution_count": 6,
   "id": "209d2d71-d939-4898-a33d-f73b58a3edb7",
   "metadata": {
    "id": "209d2d71-d939-4898-a33d-f73b58a3edb7",
    "outputId": "155e131a-ae66-4d71-e53f-57eac961f5c0"
   },
   "outputs": [
    {
     "ename": "NameError",
     "evalue": "name 'plt' is not defined",
     "output_type": "error",
     "traceback": [
      "\u001b[1;31m---------------------------------------------------------------------------\u001b[0m",
      "\u001b[1;31mNameError\u001b[0m                                 Traceback (most recent call last)",
      "\u001b[1;32m~\\AppData\\Local\\Temp\\ipykernel_7748\\3432284599.py\u001b[0m in \u001b[0;36m<module>\u001b[1;34m\u001b[0m\n\u001b[1;32m----> 1\u001b[1;33m \u001b[0mplt\u001b[0m\u001b[1;33m.\u001b[0m\u001b[0mfigure\u001b[0m\u001b[1;33m(\u001b[0m\u001b[0mfigsize\u001b[0m\u001b[1;33m=\u001b[0m\u001b[1;33m(\u001b[0m\u001b[1;36m12\u001b[0m\u001b[1;33m,\u001b[0m \u001b[1;36m6\u001b[0m\u001b[1;33m)\u001b[0m\u001b[1;33m)\u001b[0m\u001b[1;33m\u001b[0m\u001b[1;33m\u001b[0m\u001b[0m\n\u001b[0m\u001b[0;32m      2\u001b[0m \u001b[1;33m\u001b[0m\u001b[0m\n\u001b[0;32m      3\u001b[0m \u001b[1;31m# Gráfico de línea para la cantidad vendida a lo largo del tiempo\u001b[0m\u001b[1;33m\u001b[0m\u001b[1;33m\u001b[0m\u001b[0m\n\u001b[0;32m      4\u001b[0m \u001b[0mplt\u001b[0m\u001b[1;33m.\u001b[0m\u001b[0mplot\u001b[0m\u001b[1;33m(\u001b[0m\u001b[0mnew_df\u001b[0m\u001b[1;33m[\u001b[0m\u001b[1;34m'Order Date'\u001b[0m\u001b[1;33m]\u001b[0m\u001b[1;33m,\u001b[0m \u001b[0mnew_df\u001b[0m\u001b[1;33m[\u001b[0m\u001b[1;34m'Quantity Ordered'\u001b[0m\u001b[1;33m]\u001b[0m\u001b[1;33m,\u001b[0m \u001b[0mcolor\u001b[0m\u001b[1;33m=\u001b[0m\u001b[1;34m'blue'\u001b[0m\u001b[1;33m,\u001b[0m \u001b[0mlabel\u001b[0m\u001b[1;33m=\u001b[0m\u001b[1;34m'Cantidad Vendida'\u001b[0m\u001b[1;33m)\u001b[0m\u001b[1;33m\u001b[0m\u001b[1;33m\u001b[0m\u001b[0m\n\u001b[0;32m      5\u001b[0m \u001b[0mplt\u001b[0m\u001b[1;33m.\u001b[0m\u001b[0mxlabel\u001b[0m\u001b[1;33m(\u001b[0m\u001b[1;34m'Fecha'\u001b[0m\u001b[1;33m)\u001b[0m\u001b[1;33m\u001b[0m\u001b[1;33m\u001b[0m\u001b[0m\n",
      "\u001b[1;31mNameError\u001b[0m: name 'plt' is not defined"
     ]
    }
   ],
   "source": [
    "\n",
    "plt.figure(figsize=(12, 6))\n",
    "\n",
    "# Gráfico de línea para la cantidad vendida a lo largo del tiempo\n",
    "plt.plot(new_df['Order Date'], new_df['Quantity Ordered'], color='blue', label='Cantidad Vendida')\n",
    "plt.xlabel('Fecha')\n",
    "plt.ylabel('Cantidad Vendida')\n",
    "plt.title('Tendencia de la Cantidad Vendida a lo largo del Tiempo')\n",
    "plt.legend()\n",
    "\n",
    "# Mostrar la figura\n",
    "plt.show()"
   ]
  },
  {
   "cell_type": "code",
   "execution_count": null,
   "id": "76c1c1d2-b914-4405-a352-f7cfc094627e",
   "metadata": {
    "id": "76c1c1d2-b914-4405-a352-f7cfc094627e",
    "outputId": "0d4e8c5f-755f-4eed-c475-37504f0c2751"
   },
   "outputs": [],
   "source": [
    "# Supongamos que tienes un DataFrame llamado 'new_df' con las columnas 'Product' y 'Quantity Ordered'\n",
    "\n",
    "# Desglose de la demanda por producto\n",
    "plt.figure(figsize=(12, 6))\n",
    "\n",
    "# Utiliza seaborn para crear un gráfico de barras\n",
    "sns.barplot(x='Product', y='Quantity Ordered', data=new_df, ci=None, palette='viridis')\n",
    "plt.xticks(rotation=90)\n",
    "plt.xlabel('Producto')\n",
    "plt.ylabel('Cantidad Vendida')\n",
    "plt.title('Desglose de la Demanda por Producto')\n",
    "\n",
    "# Mostrar el gráfico\n",
    "plt.show()"
   ]
  },
  {
   "cell_type": "code",
   "execution_count": null,
   "id": "2bcbf33a-efdc-4d8b-a779-75e46de796aa",
   "metadata": {
    "id": "2bcbf33a-efdc-4d8b-a779-75e46de796aa",
    "outputId": "8b9cd585-edb7-4654-b500-689eba87f168"
   },
   "outputs": [],
   "source": [
    "import matplotlib.pyplot as plt\n",
    "import seaborn as sns\n",
    "\n",
    "# Supongamos que tienes un DataFrame llamado 'new_df' con las columnas 'Product', 'Order Date' y 'Quantity Ordered'\n",
    "\n",
    "# Selecciona un producto específico para el historial de ventas\n",
    "producto_seleccionado = 'iPhone'  # Reemplaza con el nombre del producto que deseas analizar\n",
    "\n",
    "# Filtra los datos para el producto seleccionado\n",
    "historial_ventas_producto = new_df[new_df['Product'] == producto_seleccionado]\n",
    "\n",
    "# Preparación de los datos\n",
    "historial_ventas_producto['Order Date'] = pd.to_datetime(historial_ventas_producto['Order Date'])\n",
    "historial_ventas_producto = historial_ventas_producto.set_index('Order Date')\n",
    "\n",
    "# Gráfico de línea para mostrar el historial de ventas\n",
    "plt.figure(figsize=(12, 6))\n",
    "sns.lineplot(x=historial_ventas_producto.index, y=historial_ventas_producto['Quantity Ordered'], label='Cantidad Vendida', color='blue')\n",
    "plt.xlabel('Fecha')\n",
    "plt.ylabel('Cantidad Vendida')\n",
    "plt.title(f'Historial de Ventas de \"{producto_seleccionado}\"')\n",
    "plt.legend()\n",
    "plt.grid(True)\n",
    "\n",
    "# Mostrar el gráfico\n",
    "plt.show()"
   ]
  },
  {
   "cell_type": "code",
   "execution_count": null,
   "id": "2ff8aecf-b16f-4bd0-9446-2d7abac395ef",
   "metadata": {
    "id": "2ff8aecf-b16f-4bd0-9446-2d7abac395ef",
    "outputId": "02d0a087-8407-4917-c685-01c1d2a8f1ae"
   },
   "outputs": [],
   "source": [
    "\n",
    "# Agrupar los datos por producto y día para obtener la cantidad total vendida por día\n",
    "daily_sales = new_df.groupby(['Product', pd.Grouper(key='Order Date', freq='D')])['Quantity Ordered'].sum().reset_index()\n",
    "\n",
    "# Crea características adicionales a partir de la fecha\n",
    "daily_sales['DayOfWeek'] = daily_sales['Order Date'].dt.dayofweek\n",
    "daily_sales['Month'] = daily_sales['Order Date'].dt.month\n",
    "\n",
    "\n",
    "# Preparación de secuencias\n",
    "sequence_length = 7  # Longitud de la secuencia de tiempo\n",
    "num_features = len(daily_sales['Product'].unique())\n",
    "\n",
    "# Transforma los datos en secuencias de tiempo\n",
    "X = []\n",
    "y = []\n",
    "for product in daily_sales['Product'].unique():\n",
    "    product_data = daily_sales[daily_sales['Product'] == product]['Quantity Ordered'].values\n",
    "    for i in range(len(product_data) - sequence_length):\n",
    "        X.append(product_data[i:i+sequence_length])\n",
    "        y.append(product_data[i+sequence_length])\n",
    "\n",
    "X = np.array(X)\n",
    "y = np.array(y)\n",
    "\n",
    "# División de datos en conjuntos de entrenamiento y prueba\n",
    "split_ratio = 0.8\n",
    "split_index = int(len(X) * split_ratio)\n",
    "X_train, X_test = X[:split_index], X[split_index:]\n",
    "y_train, y_test = y[:split_index], y[split_index:]\n",
    "\n",
    "# Reshape de los datos para que sean compatibles con la entrada de la red LSTM\n",
    "X_train = X_train.reshape(-1, sequence_length, 1)\n",
    "X_test = X_test.reshape(-1, sequence_length, 1)\n",
    "\n",
    "# Construcción del modelo\n",
    "model = keras.Sequential([\n",
    "    layers.LSTM(64, input_shape=(sequence_length, 1)),\n",
    "    layers.Dense(1)\n",
    "])\n",
    "\n",
    "# Compilación y entrenamiento del modelo\n",
    "model.compile(optimizer='adam', loss='mean_squared_error')\n",
    "model.fit(X_train, y_train, epochs=50, batch_size=32, validation_data=(X_test, y_test))\n",
    "\n",
    "# Predicciones\n",
    "predictions = model.predict(X_test)\n",
    "\n",
    "# Evaluación del modelo\n",
    "mse = np.mean((predictions - y_test)**2)\n",
    "print(\"Error cuadrático medio:\", mse)"
   ]
  },
  {
   "cell_type": "code",
   "execution_count": null,
   "id": "3457e63c-7929-4326-9c9a-dce9919bde01",
   "metadata": {
    "id": "3457e63c-7929-4326-9c9a-dce9919bde01"
   },
   "outputs": [],
   "source": [
    "new_df = new_df.drop('Order Date', axis=1)"
   ]
  },
  {
   "cell_type": "code",
   "execution_count": null,
   "id": "e6eb48e6-6649-4daf-a150-387b58bdf2ba",
   "metadata": {
    "id": "e6eb48e6-6649-4daf-a150-387b58bdf2ba"
   },
   "outputs": [],
   "source": [
    "import pandas as pd\n",
    "import numpy as np\n",
    "from sklearn.model_selection import train_test_split\n",
    "from sklearn.preprocessing import LabelEncoder, StandardScaler\n",
    "from keras.models import Sequential\n",
    "from keras.layers import Dense, LSTM\n",
    "from keras.regularizers import l2\n",
    "from keras.metrics import MeanSquaredError\n",
    "from keras.layers import SimpleRNN\n",
    "\n",
    "\n",
    "# Codificar la variable categórica 'Product'\n",
    "label_encoder = LabelEncoder()\n",
    "new_df['Product'] = label_encoder.fit_transform(new_df['Product'])\n",
    "\n",
    "# Dividir los datos en características (X) y la variable objetivo (y)\n",
    "X = new_df.drop('Quantity Ordered', axis=1)\n",
    "y = new_df['Quantity Ordered']\n",
    "\n",
    "# Escalar las características para normalizarlas\n",
    "scaler = StandardScaler()\n",
    "X = scaler.fit_transform(X)\n",
    "\n",
    "# Reformatear los datos para una secuencia temporal (asumiendo que cada fila representa una secuencia temporal)\n",
    "X = X.reshape(X.shape[0], 1, X.shape[1])\n",
    "\n",
    "# Dividir los datos en conjuntos de entrenamiento y prueba\n",
    "X_train, X_test, y_train, y_test = train_test_split(X, y, test_size=0.2, random_state=42)\n",
    "\n",
    "\n",
    "# Construir un modelo más simple con una capa SimpleRNN\n",
    "model = Sequential()\n",
    "model.add(SimpleRNN(32, input_shape=(X_train.shape[1], X_train.shape[2]), activation='relu'))\n",
    "model.add(Dense(1, activation='linear'))\n",
    "\n",
    "# Compilar el modelo\n",
    "model.compile(loss='mean_squared_error', optimizer='adam', metrics=[MeanSquaredError()])\n",
    "\n",
    "# Entrenar el modelo\n",
    "history = model.fit(X_train, y_train, epochs=50, batch_size=32, validation_data=(X_test, y_test), verbose=1)\n",
    "\n",
    "# Evaluar el modelo en el conjunto de prueba\n",
    "loss = model.evaluate(X_test, y_test, verbose=1)\n",
    "print(f'Error cuadrático medio en el conjunto de prueba: {loss}')\n",
    "\n",
    "# Crear gráficos\n",
    "plt.figure(figsize=(12, 6))\n",
    "\n",
    "# Gráfico de pérdida en entrenamiento y prueba\n",
    "plt.subplot(1, 2, 1)\n",
    "plt.plot(history.history['loss'], label='Entrenamiento')\n",
    "plt.plot(history.history['val_loss'], label='Prueba')\n",
    "plt.xlabel('Época')\n",
    "plt.ylabel('Pérdida')\n",
    "plt.title('Pérdida en entrenamiento y prueba')\n",
    "plt.legend()\n",
    "\n",
    "# Gráfico de predicciones vs. valores reales en el conjunto de prueba\n",
    "plt.subplot(1, 2, 2)\n",
    "y_pred = model.predict(X_test)\n",
    "plt.scatter(y_test, y_pred)\n",
    "plt.xlabel('Valor Real')\n",
    "plt.ylabel('Predicción')\n",
    "plt.title('Predicciones vs. Valores Reales')\n",
    "\n",
    "plt.tight_layout()\n",
    "plt.show()"
   ]
  }
 ],
 "metadata": {
  "colab": {
   "provenance": []
  },
  "kernelspec": {
   "display_name": "Python 3 (ipykernel)",
   "language": "python",
   "name": "python3"
  },
  "language_info": {
   "codemirror_mode": {
    "name": "ipython",
    "version": 3
   },
   "file_extension": ".py",
   "mimetype": "text/x-python",
   "name": "python",
   "nbconvert_exporter": "python",
   "pygments_lexer": "ipython3",
   "version": "3.9.13"
  }
 },
 "nbformat": 4,
 "nbformat_minor": 5
}
